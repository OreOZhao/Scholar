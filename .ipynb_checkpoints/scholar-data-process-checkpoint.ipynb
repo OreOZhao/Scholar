{
 "cells": [
  {
   "cell_type": "code",
   "execution_count": null,
   "metadata": {},
   "outputs": [],
   "source": [
    "import os.path\n",
    "from util import *"
   ]
  },
  {
   "cell_type": "code",
   "execution_count": null,
   "metadata": {},
   "outputs": [],
   "source": [
    "# get meta list\n",
    "CRAWL_DATA = False\n",
    "\n",
    "if os.path.exists('data.hdf5'):\n",
    "    CRAWL_DATA = False\n",
    "\n",
    "if CRAWL_DATA:\n",
    "    meta_list = crawl_meta(\n",
    "        meta_hdf5=None,\n",
    "        write_meta_name='data.hdf5'\n",
    "    )\n",
    "else:\n",
    "    meta_hdf5 = glob.glob('data.hdf5')[0]\n",
    "    meta_list = crawl_meta(meta_hdf5=meta_hdf5)\n",
    "\n",
    "print('Number of Articles: %d' % len(meta_list))"
   ]
  },
  {
   "cell_type": "code",
   "execution_count": null,
   "metadata": {},
   "outputs": [],
   "source": [
    "# Process meta list\n",
    "print('Processing Meta list...')\n",
    "meta_list = process_meta_list(meta_list)\n",
    "# Process string: Remove html. Label html address, number. Generate stems.\n",
    "# Process keywords: get keywords from title if not in stopwords."
   ]
  },
  {
   "cell_type": "code",
   "execution_count": null,
   "metadata": {},
   "outputs": [],
   "source": [
    "# write and read processed meta_list\n",
    "write_processed_meta(meta_list, 'processed_data.hdf5')\n",
    "meta_list = read_processed_meta('processed_data.hdf5')"
   ]
  },
  {
   "cell_type": "code",
   "execution_count": null,
   "metadata": {},
   "outputs": [],
   "source": [
    "# get citations\n",
    "data = get_data()\n",
    "data = data.reset_index(drop=True)\n",
    "for i in range(len(meta_list)):\n",
    "    if isinstance(data.citation[i], str):\n",
    "        meta_list[i].citation = data.citation[i].replace(\"['\", '').replace(\"']\", '').split(\"', '\")\n",
    "    else:\n",
    "        meta_list[i].citation = None\n"
   ]
  },
  {
   "cell_type": "code",
   "execution_count": null,
   "metadata": {},
   "outputs": [],
   "source": [
    "# Get Science and Nature meta list seperately.\n",
    "# Nature have citations and Science not.\n",
    "sci_meta = []\n",
    "nat_meta = []\n",
    "for m in meta_list:\n",
    "    if m.citation is None:\n",
    "        sci_meta.append(m)\n",
    "    else:\n",
    "        nat_meta.append(m)\n",
    "\n",
    "        \n",
    "write_processed_meta(sci_meta, 'sci_meta.hdf5')\n",
    "write_processed_meta(nat_meta, 'nat_meta.hdf5')"
   ]
  },
  {
   "cell_type": "code",
   "execution_count": null,
   "metadata": {},
   "outputs": [],
   "source": [
    "# get corpus from meta_list and write to file.\n",
    "content_corpus = get_content_corpus(meta_list)    # title + abstract + citation\n",
    "author_corpus = get_author_corpus(meta_list)    # \n",
    "affiliation_corpus = get_affiliation_corpus(meta_list)\n",
    "# get corpus from corpus file\n",
    "content_corpus = get_corpus_from_file('content_corpus.txt')\n",
    "author_corpus = get_corpus_from_file('author_corpus.txt')\n",
    "affiliation_corpus = get_corpus_from_file('affiliation.txt')"
   ]
  },
  {
   "cell_type": "code",
   "execution_count": null,
   "metadata": {},
   "outputs": [],
   "source": [
    "# get features to mat file\n",
    "get_feature(meta_list)"
   ]
  }
 ],
 "metadata": {
  "kernelspec": {
   "display_name": "Python 3",
   "language": "python",
   "name": "python3"
  },
  "language_info": {
   "codemirror_mode": {
    "name": "ipython",
    "version": 3
   },
   "file_extension": ".py",
   "mimetype": "text/x-python",
   "name": "python",
   "nbconvert_exporter": "python",
   "pygments_lexer": "ipython3",
   "version": "3.7.5"
  }
 },
 "nbformat": 4,
 "nbformat_minor": 2
}
